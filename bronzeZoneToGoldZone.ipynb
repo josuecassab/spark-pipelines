{
 "cells": [
  {
   "cell_type": "code",
   "execution_count": 106,
   "id": "4008e0b2",
   "metadata": {},
   "outputs": [],
   "source": [
    "from pyspark.sql import SparkSession\n",
    "from pyspark.sql.functions import *\n",
    "from pyspark.sql.types import *\n",
    "from google.cloud import storage"
   ]
  },
  {
   "cell_type": "code",
   "execution_count": 107,
   "id": "f44907be",
   "metadata": {},
   "outputs": [],
   "source": [
    "spark = SparkSession.builder.appName('Ops').config(\"spark.sql.extensions\", \"io.delta.sql.DeltaSparkSessionExtension\") \\\n",
    "    .config(\"spark.sql.catalog.spark_catalog\", \"org.apache.spark.sql.delta.catalog.DeltaCatalog\").getOrCreate()"
   ]
  },
  {
   "cell_type": "code",
   "execution_count": 114,
   "id": "e592fa0d",
   "metadata": {},
   "outputs": [],
   "source": [
    "storage_client = storage.Client()\n",
    "blobs = storage_client.list_blobs('data-lake-jlr-bronze-zone', prefix='dev/data/')"
   ]
  },
  {
   "cell_type": "code",
   "execution_count": 115,
   "id": "5bc36776",
   "metadata": {},
   "outputs": [],
   "source": [
    "buckets = []\n",
    "for blob in blobs:\n",
    "    if not blob.name.endswith('/'):\n",
    "        buckets.append(blob.name)"
   ]
  },
  {
   "cell_type": "code",
   "execution_count": 116,
   "id": "066bea90",
   "metadata": {},
   "outputs": [
    {
     "data": {
      "text/plain": [
       "['dev/data/documentedname.csv',\n",
       " 'dev/data/endcustomerlocation.csv',\n",
       " 'dev/data/feature.csv',\n",
       " 'dev/data/featuregroup.csv',\n",
       " 'dev/data/legalentity.csv',\n",
       " 'dev/data/location.csv',\n",
       " 'dev/data/model.csv',\n",
       " 'dev/data/news.csv',\n",
       " 'dev/data/order.csv',\n",
       " 'dev/data/product_l0.csv',\n",
       " 'dev/data/product_l1.csv',\n",
       " 'dev/data/product_l2.csv',\n",
       " 'dev/data/sanctionmeasure.csv',\n",
       " 'dev/data/sanctionparty.csv',\n",
       " 'dev/data/sanctions.csv',\n",
       " 'dev/data/sob.csv',\n",
       " 'dev/data/supplier.csv']"
      ]
     },
     "execution_count": 116,
     "metadata": {},
     "output_type": "execute_result"
    }
   ],
   "source": [
    "buckets"
   ]
  },
  {
   "cell_type": "code",
   "execution_count": 45,
   "id": "e5387974",
   "metadata": {},
   "outputs": [
    {
     "name": "stderr",
     "output_type": "stream",
     "text": [
      "                                                                                \r"
     ]
    },
    {
     "name": "stdout",
     "output_type": "stream",
     "text": [
      "+-----+--------------------+\n",
      "|docID|                name|\n",
      "+-----+--------------------+\n",
      "|    1|ANHUI LAND GROUP ...|\n",
      "+-----+--------------------+\n",
      "\n"
     ]
    },
    {
     "name": "stderr",
     "output_type": "stream",
     "text": [
      "[Stage 27:>                                                         (0 + 1) / 1]\r"
     ]
    },
    {
     "name": "stdout",
     "output_type": "stream",
     "text": [
      "+----+--------------------+----------+-----------+--------------------+-----------------------------------------+\n",
      "|clID|             address|  latitude|  longitude|              latlon|END_CUSTOMER_LOCATION_LOCATED_AT_LOCATION|\n",
      "+----+--------------------+----------+-----------+--------------------+-----------------------------------------+\n",
      "|   1|\"\"\"1-chōme-1-6 Uc...| 35.671304| 139.756642|POINT(35.671304, ...|                                      [1]|\n",
      "|   2|\"\"\"Graflinger Str...|  48.84453|    12.9616|POINT(48.84453, 1...|                                      [4]|\n",
      "|   3|\"\"\"4-12 Kuwait St...| 25.250603|  55.291427|POINT(25.250603, ...|                                      [7]|\n",
      "|   4|\"\"\"Erkel Gyula u....|   1046\"\"\"|  47.565555|           19.092781|                     POINT(47.565555, ...|\n",
      "|   5|\"\"\"Tower Bridge A...|-34.352917| -58.796389|POINT(-34.352917,...|                                     [13]|\n",
      "|   6|   \"\"\"Golden Gate\"\"\"|   51.5081|    -0.0759|POINT(51.508100, ...|                                     [17]|\n",
      "|   7|\"\"\"411 S Main St ...|  39.47755|-106.045198|POINT(39.47755, -...|                                     [20]|\n",
      "|   8|\"\"\"C. Fermín Ries...| 20.665143|-103.359254|POINT(20.665143, ...|                                     [24]|\n",
      "|   9|  \"\"\"2448 Wren Ct\"\"\"|  37.64616|-122.455978|POINT(37.646160, ...|                                     [26]|\n",
      "|  10|\"\"\"Transitional R...| 50.442575| -104.61582|POINT(50.442575, ...|                                     [30]|\n",
      "|  11|\"\"\"3 Convent Gard...| 53.407174|  -2.993068|POINT(53.407174, ...|                                     [34]|\n",
      "|  12|\"\"\"Basavilbaso 10...|-34.685208| -58.358251|POINT(-34.685208,...|                                     [36]|\n",
      "|  13| \"\"\"Hoitajentie 1\"\"\"|  62.23024|  25.709586|POINT(62.230240, ...|                                     [40]|\n",
      "+----+--------------------+----------+-----------+--------------------+-----------------------------------------+\n",
      "\n"
     ]
    },
    {
     "name": "stderr",
     "output_type": "stream",
     "text": [
      "                                                                                \r"
     ]
    },
    {
     "name": "stdout",
     "output_type": "stream",
     "text": [
      "+-------+-------------+--------------------+--------------------+--------------------+-------------------------------+\n",
      "|  priPN|       family|                name|           isDefault|             modelID|FEATURE_FEATURE_PRODUCT_PRODUCT|\n",
      "+-------+-------------+--------------------+--------------------+--------------------+-------------------------------+\n",
      "|23-4858|         null|P530 AWD Automati...|                True|                   0|                    ['23-4858']|\n",
      "|67-1565|         null|P440e AWD AUTOMAT...|                True|                   1|                    ['67-1565']|\n",
      "|88-5132|         null|    2.0L P250 i4 GAS|                True|                   2|                    ['88-5132']|\n",
      "|18-3869|   Roof Color|   Body-colored roof|                True|                   0|                    ['18-3869']|\n",
      "|61-9506|   Roof Color| Black contrast roof|               False|                   0|                    ['61-9506']|\n",
      "|27-7989|    Roof Type|Sliding panoramic...|                True|                   0|                    ['27-7989']|\n",
      "|39-8600|   Roof Color|   Body-colored roof|                True|                   2|                    ['39-8600']|\n",
      "|94-4514|   Roof Color| Black contrast roof|               False|                   2|                    ['94-4514']|\n",
      "|76-9431|    Roof Type|Sliding panoramic...|                True|                   2|                    ['76-9431']|\n",
      "|65-6272|   Roof Color|   Body-colored roof|                True|                   1|                    ['65-6272']|\n",
      "|31-3653|   Roof Color| Black contrast roof|               False|                   1|                    ['31-3653']|\n",
      "|36-6407|    Roof Type|Sliding panoramic...|                True|                   1|                    ['36-6407']|\n",
      "|60-4613|\"22\"\" wheels\"|    \"22\"\" Style 7023| Diamond Turned w...|                True|                              0|\n",
      "|25-3047|\"23\"\" wheels\"|        \"23\"\" forged|          Style 1077| Satin Dark Grey ...|                          False|\n",
      "|23-7877|\"22\"\" wheels\"|\"SV Bespoke 22\"\" ...| Diamond Turned w...|               False|                              0|\n",
      "|32-8538|\"18\"\" wheels\"|\"18\"\" Style 5075 ...|                True|                   2|                    ['32-8538']|\n",
      "|60-8026|\"22\"\" wheels\"|   \"22\"\" Style 7023\"|               False|                   1|                    ['60-8026']|\n",
      "|98-1770|\"22\"\" wheels\"|    \"22\"\" Style 1073| Diamond Turned w...|               False|                              1|\n",
      "|69-6863|\"21\"\" wheels\"|   \"21\"\" Style 5112\"|                True|                   1|                    ['69-6863']|\n",
      "|45-2799|\"18\"\" wheels\"|\"18\"\" Style 5088 ...|               False|                   2|                    ['45-2799']|\n",
      "+-------+-------------+--------------------+--------------------+--------------------+-------------------------------+\n",
      "only showing top 20 rows\n",
      "\n"
     ]
    },
    {
     "name": "stderr",
     "output_type": "stream",
     "text": [
      "                                                                                \r"
     ]
    },
    {
     "name": "stdout",
     "output_type": "stream",
     "text": [
      "+---+------------+--------+----------------+---------------------------------+\n",
      "|fID|isAdditional|category|            name|FEATURE_GROUP_HAS_FEATURE_FEATURE|\n",
      "+---+------------+--------+----------------+---------------------------------+\n",
      "|  0|       false|   Motor|          Engine|             ['23-4858', '67-1...|\n",
      "|  1|       false|Exterior|            Roof|             ['18-3869', '61-9...|\n",
      "|  2|       false|Exterior|          Wheels|             ['60-4613', '25-3...|\n",
      "|  3|       false| Options|           Glass|             ['54-5943', '25-4...|\n",
      "|  4|       false|Interior|         Seating|             ['70-1797', '38-5...|\n",
      "|  5|       false|Interior| Steering wheels|             ['25-8556', '98-8...|\n",
      "|  6|        true| Options|Driver Assitance|                      ['32-1165']|\n",
      "+---+------------+--------+----------------+---------------------------------+\n",
      "\n"
     ]
    },
    {
     "name": "stderr",
     "output_type": "stream",
     "text": [
      "                                                                                \r"
     ]
    },
    {
     "name": "stdout",
     "output_type": "stream",
     "text": [
      "+----+--------------------+--------------------+--------------------+--------------------+--------------------+--------------------+--------------------+\n",
      "|leID|           legalName|         description|               mfgPN|             address|            latitude|           longitude|              region|\n",
      "+----+--------------------+--------------------+--------------------+--------------------+--------------------+--------------------+--------------------+\n",
      "|   0|\"\"\"Jaguar Land Ro...|\"\"\"Jaguar Land Ro...| deal with curren...|          97426-7143|       \"\"\"abbey road|             whitley|            coventry|\n",
      "|   1|\"\"\"Anand Automoti...|\"\"\"ANAND is a glo...| SUJÁN. A dedicat...| places ANAND amo...|          52342-2164|\"\"\"1 Sri Aurobind...|           Hauz Khas|\n",
      "|   2|\"\"\"Anhui Zhongdin...|             Ltd.\"\"\"|\"\"\"Zhongding Grou...| the headquarter ...|             Ningguo| in the Southeast...| Zhongding Group ...|\n",
      "|   3|\"\"\"Grupo Antolin-...|             S.A.\"\"\"|\"\"\"Global supplie...|          32153-3692|\"\"\"Ctra. Madrid-Irún|             Km. 244|                   8|\n",
      "|   4|\"\"\"APM Automotive...|\"\"\"APM is a Malay...|          63536-3086|       \"\"\"Kawasan 12|    42000 Port Klang|            Selangor|          Malasia\"\"\"|\n",
      "|   5|\"\"\"Aptiv PLC (For...|\"\"\"With our deep ...| Aptiv is develop...|          76596-3367|   \"\"\"5725 Delphi Dr|                Troy|         MI 48098\"\"\"|\n",
      "|   6|       \"\"\"Austem Co.|             Ltd.\"\"\"|           \"\"\"nan\"\"\"|          36583-8451|    \"\"\"Corea del Sur|   Chungcheongnam-do|          Cheonan-si|\n",
      "|   7|  \"\"\"Autoliv Inc.\"\"\"|\"\"\"Autoliv is the...| with operations ...| develop and manu...| as well as mobil...|              our 60|600 people are pa...|\n",
      "|   8|\"\"\"Autoneum Holdi...|\"\"\"In order to ex...| Autoneum consist...|          31711-3028|\"\"\"Schlosstalstra...|     8406 Winterthur|            Suiza\"\"\"|\n",
      "|   9|\"\"\"Beijing Hainac...|              Ltd\"\"\"|\"\"\"BHAP is an int...| it ranks No. 42 ...|          78014-6331|\"\"\"Distrito de Ch...|               Pekín|\n",
      "|  10|\"\"\"Benteler Group...|     \"\"\"family of 25|          000 people| as colorful as l...| with a wide vari...| with which we fi...| ambition and res...|\n",
      "|  11|\"\"\"Denso Corporat...|\"\"\"To protect the...| accident-free mo...| DENSO takes full...| developing vario...|          61307-9266|              \"\"\"1-1|\n",
      "|  12|\"\"\"Dräxlmaier Gro...|\"\"\"stands for our...|        in competent|            reliable| and trusting col...|          73981-7495|\"\"\"Landshuter Str...|\n",
      "|  13|\"\"\"DURA Automotiv...|\"\"\"Dura Automotiv...| including contro...| exterior systems...| Asian and Europe...|            Michigan| USA with more th...|\n",
      "|  14|\"\"\"Eaton Corporat...|\"\"\"As a global po...| we help our cust...|           aerospace| hydraulic and ve...| our teams have h...| be more energy e...|\n",
      "|  15| \"\"\"EVE Energy Co\"\"\"|\"\"\"Established in...|      EVE Energy Co.| Ltd. (hereinafte...| EVE is now a glo...|               power| IoT and renewabl...|\n",
      "|  16|\"\"\"Exide Technolo...|\"\"\"Exide was orig...| an American mult...|             Georgia|   United States.\"\"\"|          36661-1712|\"\"\"5 All. des Pie...|\n",
      "|  17|\"\"\"Ficosa Interna...|             S.A.\"\"\"|           \"\"\"Ficosa| short for Ficosa...| is a Spanish mul...| devoted to the r...|         development|\n",
      "|  18|\"\"\"Flex-N-Gate Co...|\"\"\"Flex-N-Gate is...|          11819-8544|\"\"\"1306 East Univ...|            IL 61802|              USA\"\"\"|    40.1160340316381|\n",
      "|  19|\"\"\"Freudenberg SE\"\"\"|\"\"\"The Freudenber...|    automobile parts|            textiles|  building materials| and telecommunic...|   Baden-Württemberg|\n",
      "+----+--------------------+--------------------+--------------------+--------------------+--------------------+--------------------+--------------------+\n",
      "only showing top 20 rows\n",
      "\n"
     ]
    },
    {
     "name": "stderr",
     "output_type": "stream",
     "text": [
      "                                                                                \r"
     ]
    },
    {
     "name": "stdout",
     "output_type": "stream",
     "text": [
      "+---+--------------------+-----+--------------------+----+--------------------+\n",
      "|lID|                name|level|                area|risk|LOCATION_IN_LOCATION|\n",
      "+---+--------------------+-----+--------------------+----+--------------------+\n",
      "|  0|               Japan|    0|[POINT(15.3546, 6...|   0|                null|\n",
      "|  1|               Tokyo|    1|[POINT(135.8537, ...|   0|               [0.0]|\n",
      "|  2|             Germany|    0|[POINT(55.15881, ...|   0|                null|\n",
      "|  3|              Bayern|    1|[POINT(8.976365, ...|   0|               [2.0]|\n",
      "|  4|          Deggendorf|    2|[POINT(12.75015, ...|   0|               [3.0]|\n",
      "|  5|United Arab Emirates|    0|[POINT(55.17427, ...|   0|                null|\n",
      "|  6|               Dubai|    1|[POINT(54.45646, ...|   0|               [5.0]|\n",
      "|  7|         Al Mankhool|    3|[POINT(55.285689,...|   0|               [6.0]|\n",
      "|  8|             Hungary|    0|[POINT(-72.79898,...|   0|                null|\n",
      "|  9|            Budapest|    1|[POINT(18.92511, ...|   0|               [8.0]|\n",
      "| 10|           Argentina|    0|[POINT(-49.3443, ...|   0|                null|\n",
      "| 11|        Buenos Aires|    1|[POINT(-63.39274,...|   0|              [10.0]|\n",
      "| 12|             Escobar|    2|[POINT(-64.22513,...|   0|              [11.0]|\n",
      "| 13|    Belén de Escobar|    3|[POINT(-58.88323,...|   0|              [12.0]|\n",
      "| 14|                 USA|    0|[POINT(8.491109, ...|   0|                null|\n",
      "| 15|          California|    1|[POINT(-124.482, ...|   0|              [14.0]|\n",
      "| 16|City and County o...|    2|[POINT(-123.1738,...|   0|              [15.0]|\n",
      "| 17|       San Francisco|    3|[POINT(-123.1738,...|   0|              [16.0]|\n",
      "| 18|            Colorado|    1|[POINT(-109.0602,...|   0|              [14.0]|\n",
      "| 19|       Summit County|    2|[POINT(-111.6491,...|   0|              [18.0]|\n",
      "+---+--------------------+-----+--------------------+----+--------------------+\n",
      "only showing top 20 rows\n",
      "\n"
     ]
    },
    {
     "name": "stderr",
     "output_type": "stream",
     "text": [
      "                                                                                \r"
     ]
    },
    {
     "name": "stdout",
     "output_type": "stream",
     "text": [
      "+-------+-----------------+--------------------+----+-----------+--------------------------+-------------------------------------+\n",
      "|modelID|       familyName|           modelName|year|defaultRoot|MODEL_DEFAULT_ROOT_PRODUCT|MODEL_HAS_FEATURE_GROUP_FEATURE_GROUP|\n",
      "+-------+-----------------+--------------------+----+-----------+--------------------------+-------------------------------------+\n",
      "|      0|   Range Rover SE|Range Rover SE P4...|2023|    19-9708|               ['19-9708']|                      [0, 1, 2, 3, 4]|\n",
      "|      1|   Range Rover SV|Range Rover SV P5...|2023|    63-1924|               ['63-1924']|                 [0, 1, 2, 3, 4, 5...|\n",
      "|      2|Discovery Sport S|Discovery Sport S...|2023|    74-1687|               ['74-1687']|                         [0, 1, 2, 4]|\n",
      "+-------+-----------------+--------------------+----+-----------+--------------------------+-------------------------------------+\n",
      "\n"
     ]
    },
    {
     "name": "stderr",
     "output_type": "stream",
     "text": [
      "                                                                                \r"
     ]
    },
    {
     "name": "stdout",
     "output_type": "stream",
     "text": [
      "+----+--------------------+--------------------+--------------------+--------------------+---------------------+---------------------+-------------------------+\n",
      "| nID|               title|             summary|                 URL|        releasedDate|NEWS_AFFECTS_LOCATION|NEWS_AFFECTS_SUPPLIER|NEWS_AFFECTS_LEGAL_ENTITY|\n",
      "+----+--------------------+--------------------+--------------------+--------------------+---------------------+---------------------+-------------------------+\n",
      "| 1.0|\"\"\"China virus ou...|      \"\"\"Tata Motors| one of the large...| has extended a p...| 000 personnel the...|  about 800 km fro...|      the epicentre of...|\n",
      "| 2.0|\"\"\"Jaguar suspend...|\"\"\"Jaguar Land Ro...| its only full el...| the I-Pace assem...|              Austria|  is also on stop ...|      Evoque and Velar...|\n",
      "| 3.0|\"\"\"JLR announces ...|\"\"\"Jaguar Land Ro...|            in April| in an effort to ...| https://www.am-on...|     22/01/2020 00:00|                     [60]|\n",
      "| 4.0|\"\"\"Jaguar Land Ro...| it has been conf...|        \"\"\"The plant| which produces t...|  is the base for ...|  which is due to ...|     https://www.autoc...|\n",
      "| 5.0|\"\"\"Supply chain c...|    \"\"\"Germany's BMW| the world's bigg...| sold more than s...|            954 units|  recording its se...|     https://www.finan...|\n",
      "|null|\"\"\"JLR to suspend...|\"\"\"Luxury automak...|https://www.money...| 2020-03-18 14:20:00|                Nitra|                 null|                     null|\n",
      "|null|\"\"\"Jaguar Land Ro...|\"\"\"The British ca...|https://www.bbc.c...| 2022-11-25 00:00:00|                   UK|                 null|                     null|\n",
      "|null|\"\"\"Jaguar Land Ro...| Brazil from Marc...|      \"\"\"On March 23| Jaguar Land Rove...| https://www.markl...|  2020-03-26 00:00:00|                 Itatiaia|\n",
      "|null|\"\"\"Jaguar Land Ro...|\"\"\"SHANGHAI -- Ja...|https://europe.au...| 2019-02-15 03:48:00|             Changshu|                 null|                     null|\n",
      "|null|\"\"\"Solihull bin s...|000 face five day...|\"\"\"GMB Union has ...| have offered an ...|  with others seei...| https://www.gmb.o...|      2022-03-11 00:00:00|\n",
      "|null|\"\"\"JLR warns of p...|\"\"\"Jaguar Land Ro...| the operations i...|https://www.hindu...|  2013-07-09 12:48:00|                   UK|                     null|\n",
      "|null|\"\"\"Jaguar Land Ro...| the operations i...|\"\"\"The company is...| including the JL...| https://www.livem...|  2019-08-08 17:16:00|                     Pune|\n",
      "|null|\"\"\"Supply shortag...|\"\"\"Jaguar Land Ro...| thought to be re...| which was JLR’s ...|  is built under c...|           Austria\"\"\"|     https://www.autom...|\n",
      "|null|\"\"\"Confirmed: JLR...|\"\"\"Jaguar Land Ro...| as well as being...| due to hit UK ro...|  subject to marke...|  it was inevitabl...|     https://www.autoc...|\n",
      "|null|\"\"\"Uncertainty su...|\"\"\"JLR’s new CEO ...|          Merseyside|        and Solihull|        West Midlands|  would adapt to a...|      Castle Bromwich’...|\n",
      "|null|\"\"\"Jaguar Land Ro...|\"\"\"The industrial...|https://www.coven...| 2022-02-04 07:58:00|             Halewood|                 null|                     null|\n",
      "+----+--------------------+--------------------+--------------------+--------------------+---------------------+---------------------+-------------------------+\n",
      "\n"
     ]
    },
    {
     "name": "stderr",
     "output_type": "stream",
     "text": [
      "                                                                                \r"
     ]
    },
    {
     "name": "stdout",
     "output_type": "stream",
     "text": [
      "+---+-------------+----------------+----------------+-------------------+-----------------+\n",
      "|oID|deliveryPoint|       orderDate|      targetDate|ORDER_FROM_SUPPLIER|ORDER_TO_SUPPLIER|\n",
      "+---+-------------+----------------+----------------+-------------------+-----------------+\n",
      "|  0|           12|\"\"\"2022-10-05\"\"\"|\"\"\"2023-01-10\"\"\"|               [12]|              [3]|\n",
      "|  1|            9|\"\"\"2022-11-07\"\"\"|\"\"\"2023-01-31\"\"\"|                [9]|             [15]|\n",
      "|  2|           12|\"\"\"2022-11-29\"\"\"|\"\"\"2023-01-22\"\"\"|               [12]|              [5]|\n",
      "|  3|           17|\"\"\"2022-10-18\"\"\"|\"\"\"2023-01-13\"\"\"|               [17]|              [9]|\n",
      "|  4|            9|\"\"\"2022-11-20\"\"\"|\"\"\"2023-01-05\"\"\"|                [9]|             [15]|\n",
      "|  5|           13|\"\"\"2022-11-25\"\"\"|\"\"\"2023-01-27\"\"\"|               [13]|              [9]|\n",
      "|  6|            1|\"\"\"2022-10-14\"\"\"|\"\"\"2023-01-16\"\"\"|                [1]|              [0]|\n",
      "|  7|           12|\"\"\"2022-11-11\"\"\"|\"\"\"2023-01-19\"\"\"|               [12]|             [17]|\n",
      "|  8|           12|\"\"\"2022-10-09\"\"\"|\"\"\"2023-01-08\"\"\"|               [12]|             [13]|\n",
      "|  9|           13|\"\"\"2022-11-28\"\"\"|\"\"\"2023-01-21\"\"\"|               [13]|              [3]|\n",
      "| 10|            1|\"\"\"2022-10-30\"\"\"|\"\"\"2023-01-27\"\"\"|                [1]|              [3]|\n",
      "| 11|           13|\"\"\"2022-10-07\"\"\"|\"\"\"2023-01-11\"\"\"|               [13]|             [13]|\n",
      "| 12|           12|\"\"\"2022-11-06\"\"\"|\"\"\"2023-01-14\"\"\"|               [12]|             [15]|\n",
      "| 13|            3|\"\"\"2022-11-29\"\"\"|\"\"\"2023-01-09\"\"\"|                [3]|              [0]|\n",
      "+---+-------------+----------------+----------------+-------------------+-----------------+\n",
      "\n"
     ]
    },
    {
     "name": "stderr",
     "output_type": "stream",
     "text": [
      "                                                                                \r"
     ]
    },
    {
     "name": "stdout",
     "output_type": "stream",
     "text": [
      "+------------+----------+-------+--------------------+--------+----+-------------+-----+------------------------------+---------------------------------------+-----------------------------+---------------------------------------+-------------------------------+---------------------------------------------------+\n",
      "|         SKU|     mfgPN|  priPN|                name|imageURI|risk|unitOfMeasure|level|PRODUCT_L0_HAS_PART_PRODUCT_L1|PRODUCT_L0_HAS_PART_PRODUCT_L1_QUANTITY|PRODUCT_L0_STORED_AT_SUPPLIER|PRODUCT_L0_STORED_AT_SUPPLIER_INVENTORY|PRODUCT_L0_PRODUCED_AT_SUPPLIER|PRODUCT_L0_PRODUCED_AT_SUPPLIER_PRODUCTION_DURATION|\n",
      "+------------+----------+-------+--------------------+--------+----+-------------+-----+------------------------------+---------------------------------------+-----------------------------+---------------------------------------+-------------------------------+---------------------------------------------------+\n",
      "|5C0MJSNM1V13|48797-6192|19-9708|Range Rover SE P4...|       -|   0|        piece|    0|          ['23-4858', '18-3...|                   [1, 1, 1, 1, 1, 1...|                          [0]|                                    [0]|                            [0]|                                               [18]|\n",
      "|596BJSJ7YQ74|98325-6297|63-1924|Range Rover SV P5...|       -|   0|        piece|    0|          ['67-1565', '69-6...|                   [1, 1, 1, 1, 1, 1...|                          [0]|                                    [0]|                           [12]|                                               [11]|\n",
      "|SIY5NTYYPRGT|24751-9588|74-1687|Discovery Sport S...|       -|   0|        piece|    0|          ['88-5132', '39-8...|                     [1, 1, 1, 1, 1, 1]|                          [9]|                                    [0]|                            [4]|                                               [13]|\n",
      "|41XWHI6LDAID|40527-9480|65-3303|Range Rover SE P4...|       -|   0|        piece|    0|          ['23-4858', '61-9...|                   [1, 1, 1, 1, 1, 1...|                         [17]|                                    [0]|                           [15]|                                               [10]|\n",
      "|BXYXBZ3JG03G|25822-6300|67-1024|Range Rover SE P4...|       -|   0|        piece|    0|          ['23-4858', '61-9...|                     [1, 1, 1, 1, 1, 1]|                          [3]|                                    [0]|                            [3]|                                               [14]|\n",
      "|34JCEXTFPS1H|46690-6314|94-8910|Range Rover SE P4...|       -|   0|        piece|    0|          ['23-4858', '61-9...|                   [1, 1, 1, 1, 1, 1...|                         [17]|                                    [0]|                           [12]|                                                [8]|\n",
      "|MJVCITZNJSOK|79470-2776|40-8305|Range Rover SV P5...|       -|   0|        piece|    0|          ['67-1565', '69-6...|                   [1, 1, 1, 1, 1, 1...|                          [3]|                                    [0]|                            [5]|                                                [9]|\n",
      "|1S6U4UJW2F0Y|15519-8095|89-8144|Range Rover SV P5...|       -|   0|        piece|    0|          ['67-1565', '36-6...|                     [1, 1, 1, 1, 1, 1]|                          [1]|                                    [0]|                            [8]|                                                [8]|\n",
      "|6NKHE7AA43Z6|90808-7987|36-5242|Range Rover SV P5...|       -|   0|        piece|    0|          ['31-3653', '60-8...|                   [1, 1, 1, 1, 1, 1...|                          [9]|                                    [0]|                            [9]|                                               [16]|\n",
      "|UXM0U1NTLLRZ|87213-2855|88-1360|Range Rover SV P5...|       -|   0|        piece|    0|          ['67-1565', '98-1...|                   [1, 1, 1, 1, 1, 1...|                          [1]|                                    [0]|                           [11]|                                               [20]|\n",
      "|51EJZ7BV4LT1|53627-9709|98-1267|Discovery Sport S...|       -|   0|        piece|    0|          ['88-5132', '32-8...|                    [1, 1, 1, 1, 1,  1]|                          [3]|                                    [0]|                           [15]|                                               [11]|\n",
      "|4O17SP0STIAC|44394-4776|30-7722|Discovery Sport S...|       -|   0|        piece|    0|          ['88-5132', '64-5...|                     [1, 1, 1, 1, 1, 1]|                         [17]|                                    [0]|                           [17]|                                               [14]|\n",
      "|2V37NOKEVVLD|58827-7058|44-6158|Discovery Sport S...|       -|   0|        piece|    0|          ['39-8600', '32-8...|                           [1, 1, 1, 1]|                          [0]|                                    [0]|                           [13]|                                               [13]|\n",
      "+------------+----------+-------+--------------------+--------+----+-------------+-----+------------------------------+---------------------------------------+-----------------------------+---------------------------------------+-------------------------------+---------------------------------------------------+\n",
      "\n"
     ]
    },
    {
     "name": "stderr",
     "output_type": "stream",
     "text": [
      "                                                                                \r"
     ]
    },
    {
     "name": "stdout",
     "output_type": "stream",
     "text": [
      "+------------+----------+-------+--------------------+--------------------+--------------------+-------------+-----+------------------------------+---------------------------------------+-----------------------------+---------------------------------------+-------------------------------+---------------------------------------------------+---------------------------+------------------------------------+\n",
      "|         SKU|     mfgPN|  priPN|                name|            imageURI|                risk|unitOfMeasure|level|PRODUCT_L1_HAS_PART_PRODUCT_L2|PRODUCT_L1_HAS_PART_PRODUCT_L2_QUANTITY|PRODUCT_L1_STORED_AT_SUPPLIER|PRODUCT_L1_STORED_AT_SUPPLIER_INVENTORY|PRODUCT_L1_PRODUCED_AT_SUPPLIER|PRODUCT_L1_PRODUCED_AT_SUPPLIER_PRODUCTION_DURATION|PRODUCT_L1_ORDERED_IN_ORDER|PRODUCT_L1_ORDERED_IN_ORDER_QUANTITY|\n",
      "+------------+----------+-------+--------------------+--------------------+--------------------+-------------+-----+------------------------------+---------------------------------------+-----------------------------+---------------------------------------+-------------------------------+---------------------------------------------------+---------------------------+------------------------------------+\n",
      "|3Y2WW7IZV7C8|26691-4744|23-4858|P530 AWD Automati...|                   -|                   0|        piece|    1|          ['54-6499', '62-4...|                   [27, 13, 21, 13, ...|                         [12]|                                    [8]|                        [3, 13]|                                             [3 ,5]|                        [0]|                                 [1]|\n",
      "|3VVJZR5HUMVU|50471-6503|67-1565|P440e AWD AUTOMAT...|                   -|                   0|        piece|    1|          ['48-4588', '66-2...|                   [47, 33, 42, 4, 3...|                          [9]|                                    [7]|                     [1,15, 17]|                                          [5 ,4, 4]|                        [4]|                                 [2]|\n",
      "|4VDDFH7Q9DBM|24551-9919|88-5132|    2.0L P250 i4 GAS|                   -|                   0|        piece|    1|          ['95-1927', '83-7...|                   [35, 14, 37, 9, 3...|                         [12]|                                    [6]|                       [15, 17]|                                             [4 ,2]|                       [12]|                                 [6]|\n",
      "|77NF8PVNJD6I|55159-5618|18-3869|   Body-colored roof|                   -|                   0|        piece|    1|          ['25-4764', '87-4...|                   [30, 39, 14, 14, ...|                          [1]|                                   [14]|                         [3, 5]|                                             [3 ,5]|                         []|                                  []|\n",
      "|7J0QNASWCTGD|48346-8476|61-9506| Black contrast roof|                   -|                   0|        piece|    1|          ['96-6003', '67-5...|                    [24, 28, 4, 10, 17]|                          [1]|                                   [20]|                         [4, 1]|                                             [4 ,5]|                         []|                                  []|\n",
      "|YE9MOUMBCG9V|23136-1088|27-7989|Sliding panoramic...|                   -|                   0|        piece|    1|          ['41-7327', '70-8...|                   [43, 45, 39, 1, 1...|                          [9]|                                   [12]|                        [1, 15]|                                             [4 ,2]|                         []|                                  []|\n",
      "|6WC56W8HTRH1|32309-7107|39-8600|   Body-colored roof|                   -|                   0|        piece|    1|          ['69-1185', '85-3...|                   [15, 16, 50, 47, ...|                          [9]|                                   [13]|                        [1, 13]|                                             [4 ,5]|                         []|                                  []|\n",
      "|54UXQP9S00B6|10772-7129|94-4514| Black contrast roof|                   -|                   0|        piece|    1|          ['11-9682', '87-7...|                   [26, 26, 27, 12, ...|                         [12]|                                    [8]|                        [5, 17]|                                             [3 ,4]|                        [2]|                                 [1]|\n",
      "|70DHFY1HOHZT|26213-6165|76-9431|Sliding panoramic...|                   -|                   0|        piece|    1|          ['90-8856', '37-7...|                   [23, 10, 48, 19, ...|                          [9]|                                   [13]|                        [9, 11]|                                             [3 ,2]|                         []|                                  []|\n",
      "|4MZHY9ASSGK0|30601-9045|65-6272|   Body-colored roof|                   -|                   0|        piece|    1|          ['69-5437', '76-4...|                   [8, 24, 50, 3, 44...|                         [12]|                                   [19]|                        [15, 8]|                                             [3 ,4]|                         []|                                  []|\n",
      "|3M1PC8LD6OL9|25831-5136|31-3653| Black contrast roof|                   -|                   0|        piece|    1|          ['59-4119', '73-3...|                   [26, 5, 7, 35, 28...|                          [9]|                                   [15]|                         [4, 1]|                                             [3 ,4]|                         []|                                  []|\n",
      "|5HJ97R4BF3H2|42303-8793|36-6407|Sliding panoramic...|                   -|                   0|        piece|    1|          ['26-5983', '70-7...|                   [16, 27, 13, 45, ...|                         [12]|                                    [4]|                        [17, 3]|                                             [4 ,3]|                        [7]|                                 [3]|\n",
      "|6YE02LD9HQSF|38780-3248|60-4613|    \"22\"\" Style 7023| Diamond Turned w...|                   -|            0|piece|                             1|                   ['43-1875', '60-2...|         [12, 36, 8, 13, 2...|                                    [9]|                            [6]|                                             [3, 1]|                     [5 ,5]|                                  []|\n",
      "|6P102VHQRT0M|49213-5653|25-3047|        \"23\"\" forged|          Style 1077| Satin Dark Grey ...|            -|    0|                         piece|                                      1|         ['76-4443', '78-5...|                   [29, 1, 27, 50, 2...|                           [17]|                                                [8]|                   [12, 11]|                              [2 ,2]|\n",
      "|1Q5031HTDXYB|85784-3558|23-7877|\"SV Bespoke 22\"\" ...| Diamond Turned w...|                   -|            0|piece|                             1|                   ['23-9963', '87-8...|         [16, 48, 20, 30, ...|                                    [3]|                            [7]|                                            [12, 1]|                     [1 ,3]|                                  []|\n",
      "|30IIAQ426CPH|35430-5269|32-8538|\"18\"\" Style 5075 ...|                   -|                   0|        piece|    1|          ['37-8747', '49-5...|                   [49, 34, 17, 38, ...|                          [9]|                                   [20]|                     [3, 4, 12]|                                          [4 ,3, 4]|                         []|                                  []|\n",
      "|3FN9NDF8N9CS|53211-9440|60-8026|   \"22\"\" Style 7023\"|                   -|                   0|        piece|    1|          ['35-2062', '19-3...|                   [23, 5, 39, 18, 3...|                          [1]|                                    [8]|                         [1, 0]|                                             [4 ,2]|                         []|                                  []|\n",
      "|3W5QS45PSLN5|51645-6978|98-1770|    \"22\"\" Style 1073| Diamond Turned w...|                   -|            0|piece|                             1|                   ['13-7232', '91-3...|         [34, 5, 28, 28, 4...|                                    [3]|                            [0]|                                            [0, 13]|                     [2 ,1]|                                [13]|\n",
      "|6XNGQ9R25M7I|79375-3496|69-6863|   \"21\"\" Style 5112\"|                   -|                   0|        piece|    1|          ['46-1067', '59-3...|                    [12, 3, 43, 26, 18]|                         [17]|                                    [6]|                         [0, 5]|                                             [2 ,3]|                         []|                                  []|\n",
      "|2LAKF4N7H3BI|76171-5012|45-2799|\"18\"\" Style 5088 ...|                   -|                   0|        piece|    1|          ['24-6952', '66-5...|                   [36, 42, 36, 42, 16]|                         [17]|                                   [20]|                       [17, 11]|                                             [3 ,4]|                         []|                                  []|\n",
      "+------------+----------+-------+--------------------+--------------------+--------------------+-------------+-----+------------------------------+---------------------------------------+-----------------------------+---------------------------------------+-------------------------------+---------------------------------------------------+---------------------------+------------------------------------+\n",
      "only showing top 20 rows\n",
      "\n"
     ]
    },
    {
     "name": "stderr",
     "output_type": "stream",
     "text": [
      "                                                                                \r"
     ]
    },
    {
     "name": "stdout",
     "output_type": "stream",
     "text": [
      "+------------+----------+-------+--------------------+--------+----+-------------+-----+-----------------------------+---------------------------------------+\n",
      "|         SKU|     mfgPN|  priPN|                name|imageURI|risk|unitOfMeasure|level|PRODUCT_L2_STORED_AT_SUPPLIER|PRODUCT_L2_STORED_AT_SUPPLIER_INVENTORY|\n",
      "+------------+----------+-------+--------------------+--------+----+-------------+-----+-----------------------------+---------------------------------------+\n",
      "|6ISXSPXN9WH0|55025-8693|50-5469| Cylinder Head Cover|       -|   0|           ml|    2|                         [18]|                                 [1304]|\n",
      "|3ZD97XDKRHTK|32250-9965|20-8025|         Piston Ring|       -|   0|           ml|    2|                         [18]|                                 [1232]|\n",
      "|6XO9AU9E1030|66756-1310|52-4582|     Intake Manifold|       -|   0|           ml|    2|                         [18]|                                 [1385]|\n",
      "|UOBRBFLMYJOA|21195-5661|43-8155|          FuelFi ter|       -|   0|           ml|    2|                         [18]|                                 [1439]|\n",
      "|7M5U7GZK5XDZ|41159-1572|44-1632|    Exhaust Manifold|       -|   0|           ml|    2|                         [18]|                                 [1459]|\n",
      "|4XK06NP8CFZ6|84260-5549|26-2306|          EGR Cooler|       -|   0|           ml|    2|                         [18]|                                 [1487]|\n",
      "|26TPHZV8JG89|92932-4267|61-7268|           OilFilter|       -|   0|           ml|    2|                         [18]|                                 [1213]|\n",
      "|1DC7OYLGDRAV|56905-9639|50-5126|Cooling Fan Contr...|       -|   0|           ml|    2|                         [18]|                                 [1119]|\n",
      "|3NAVT513VXL7|94976-7119|98-4270|          Alternator|       -|   0|           ml|    2|                         [18]|                                 [1437]|\n",
      "|59BI0OJN6GHV|71663-2109|71-5867|   Synchronizer Ring|       -|   0|           ml|    2|                         [18]|                                 [1229]|\n",
      "|1IO5FZDGJ8PM|83809-9275|93-8294|     Drivetrain Pans|       -|   0|           ml|    2|                         [18]|                                 [1181]|\n",
      "|38ZSFJEF2I9L|91534-3961|45-8776|Electric Power St...|       -|   0|           ml|    2|                         [18]|                                 [1263]|\n",
      "|4EU15JWACVNN|86386-3182|30-8679|    Suspension Strut|       -|   0|           ml|    2|                         [18]|                                 [1160]|\n",
      "|T0WSDBLVISDL|10868-8752|37-7729|          CoilSpring|       -|   0|           ml|    2|                         [18]|                                 [1126]|\n",
      "|1VPMEH0DT0SW|11941-1297|82-4876|      Shock Absorber|       -|   0|           ml|    2|                         [18]|                                 [1438]|\n",
      "|26EWIW00WGEF|74803-3145|14-1233|Shock Absorber Parts|       -|   0|           ml|    2|                         [18]|                                 [1126]|\n",
      "|68YPQ4XTPAOR|52776-2134|40-6578|        Ax le Module|       -|   0|           ml|    2|                         [18]|                                 [1200]|\n",
      "|1IB8YK9SG6ZS|81498-9631|79-3193|         Ax le Shaft|       -|   0|           ml|    2|                         [18]|                                 [1218]|\n",
      "|1ZZ1KGM73Q7Q|10687-4618|92-5414|               Brake|       -|   0|           ml|    2|                         [18]|                                 [1319]|\n",
      "|5RTTMOWRI59Q|97620-5912|17-8093|          Brake Shoe|       -|   0|           ml|    2|                         [18]|                                 [1171]|\n",
      "+------------+----------+-------+--------------------+--------+----+-------------+-----+-----------------------------+---------------------------------------+\n",
      "only showing top 20 rows\n",
      "\n"
     ]
    },
    {
     "name": "stderr",
     "output_type": "stream",
     "text": [
      "                                                                                \r"
     ]
    },
    {
     "name": "stdout",
     "output_type": "stream",
     "text": [
      "+----------+-------+------------+---------------------------------------+\n",
      "|sanctionID|comment|sanctionType|SANCTION_MEASURE_AFFECTS_SANCTION_PARTY|\n",
      "+----------+-------+------------+---------------------------------------+\n",
      "|    145224|  NPWMD|     Program|                                [19249]|\n",
      "|    145256|   IFSR|     Program|                                [19249]|\n",
      "|     11247|   null|       Block|                                [19249]|\n",
      "+----------+-------+------------+---------------------------------------+\n",
      "\n"
     ]
    },
    {
     "name": "stderr",
     "output_type": "stream",
     "text": [
      "\r",
      "[Stage 165:====================================================>  (48 + 2) / 50]\r",
      "\r",
      "                                                                                \r"
     ]
    },
    {
     "name": "stdout",
     "output_type": "stream",
     "text": [
      "+--------+--------------------+-----------------------------------+----------------------------------------+---------------------------------------+\n",
      "|fixedRef|            mainName|SANCTION_PARTY_AFFECTS_LEGAL_ENTITY|SANCTION_PARTY_AFFECTS_LEGAL_ENTITY_TYPE|SANCTION_PARTY_HAS_NAME_DOCUMENTED_NAME|\n",
      "+--------+--------------------+-----------------------------------+----------------------------------------+---------------------------------------+\n",
      "|   19249|ANHUI LAND GROUP ...|                                [2]|                                     [1]|                                    [1]|\n",
      "+--------+--------------------+-----------------------------------+----------------------------------------+---------------------------------------+\n",
      "\n",
      "+--------+---+------+-----------------------------+\n",
      "|fixedRef| ID|idType|SANCTIONS_AFFECT_LEGAL_ENTITY|\n",
      "+--------+---+------+-----------------------------+\n",
      "|   19249|[2]|   [1]|                          [2]|\n",
      "+--------+---+------+-----------------------------+\n",
      "\n"
     ]
    },
    {
     "name": "stderr",
     "output_type": "stream",
     "text": [
      "\r",
      "[Stage 189:====================================================>  (48 + 2) / 50]\r",
      "\r",
      "                                                                                \r"
     ]
    },
    {
     "name": "stdout",
     "output_type": "stream",
     "text": [
      "+-----+----------+-----------------+--------------------+----------+----------+---------+--------+-----------+--------------------------+------------------------+----------------------+---------------------------------+\n",
      "|sobID|isStandard|       familyName|           modelName| orderDate|targetDate|unitPrice|quantity|totalAmount|SOB_ORDERS_FEATURE_FEATURE|SOB_ROOT_PRODUCT_PRODUCT|SOB_ORDERS_MODEL_MODEL|SOB_TARGETS_END_CUSTOMER_LOCATION|\n",
      "+-----+----------+-----------------+--------------------+----------+----------+---------+--------+-----------+--------------------------+------------------------+----------------------+---------------------------------+\n",
      "|    1|      true|   Range Rover SE|Range Rover SE P4...|2022-12-19|2023-01-22|   204875|       2|     456650|      ['23-4858', '18-3...|             ['19-9708']|                   [0]|                              [1]|\n",
      "|    2|     false|   Range Rover SE|Range Rover SE P4...|2022-12-30|2023-02-15|   230000|       1|     230000|      ['23-4858', '61-9...|             ['65-3303']|                   [0]|                              [2]|\n",
      "|    3|     false|   Range Rover SV|Range Rover SV P5...|2022-12-20|2023-03-20|   228325|       1|     204875|      ['67-1565', '69-6...|             ['40-8305']|                   [1]|                              [3]|\n",
      "|    4|     false|Discovery Sport S|Discovery Sport S...|2022-12-23|2023-04-04|    60325|       3|     180975|      ['88-5132', '32-8...|             ['98-1267']|                   [2]|                              [4]|\n",
      "|    5|      true|   Range Rover SV|Range Rover SV P5...|2022-12-19|2023-01-22|   210000|       1|     210000|      ['67-1565', '69-6...|             ['63-1924']|                   [1]|                              [5]|\n",
      "|    6|     false|Discovery Sport S|Discovery Sport S...|2022-12-24|2023-02-15|    80325|       6|     481950|      ['88-5132', '64-5...|             ['30-7722']|                   [2]|                              [6]|\n",
      "|    7|     false|   Range Rover SV|Range Rover SV P5...|2023-01-03|2023-05-10|   298000|       5|    1490000|      ['67-1565', '36-6...|             ['89-8144']|                   [1]|                              [7]|\n",
      "|    8|     false|   Range Rover SE|Range Rover SE P4...|2022-12-21|2023-02-01|   310000|       3|     930000|      ['23-4858', '61-9...|             ['67-1024']|                   [0]|                              [8]|\n",
      "|    9|      true|Discovery Sport S|Discovery Sport S...|2022-12-21|2023-05-10|    50000|       3|     150000|      ['88-5132', '39-8...|             ['74-1687']|                   [2]|                              [9]|\n",
      "|   10|     false|   Range Rover SV|Range Rover SV P5...|2023-01-03|2023-04-21|   250700|       2|     501400|      ['31-3653', '60-8...|             ['36-5242']|                   [1]|                             [10]|\n",
      "|   11|     false|Discovery Sport S|Discovery Sport S...|2023-01-06|2023-04-22|    55000|       2|     110000|      ['39-8600', '32-8...|             ['44-6158']|                   [2]|                             [11]|\n",
      "|   12|     false|   Range Rover SE|Range Rover SE P4...|2022-12-31|2023-03-31|   269000|       3|     807000|      ['23-4858', '61-9...|             ['94-8910']|                   [0]|                             [12]|\n",
      "|   13|     false|   Range Rover SV|Range Rover SV P5...|2023-01-09|2023-04-09|   309000|       2|     618000|      ['67-1565', '98-1...|             ['88-1360']|                   [1]|                             [13]|\n",
      "+-----+----------+-----------------+--------------------+----------+----------+---------+--------+-----------+--------------------------+------------------------+----------------------+---------------------------------+\n",
      "\n"
     ]
    },
    {
     "name": "stderr",
     "output_type": "stream",
     "text": [
      "\r",
      "[Stage 201:=====================================================> (49 + 1) / 50]\r",
      "\r",
      "                                                                                \r"
     ]
    },
    {
     "name": "stdout",
     "output_type": "stream",
     "text": [
      "+---+--------------------+--------------------+--------------------+--------------------+--------------------+--------------------+--------------------+--------------------+--------------------+--------------------+--------------------------------+----------------------------+\n",
      "|eID|                name|         description|         eIdentifier|             address|            latitude|           longitude|              latLon|            Products|                risk|            capacity|SUPPLIER_BELONGS_TO_LEGAL_ENTITY|SUPPLIER_LOCATED_AT_LOCATION|\n",
      "+---+--------------------+--------------------+--------------------+--------------------+--------------------+--------------------+--------------------+--------------------+--------------------+--------------------+--------------------------------+----------------------------+\n",
      "|  0|\"\"\"vehicle manufa...|               nitra|         slovakia\"\"\"|\"\"\"The state-of-t...| 74 acre manufact...| sourced exclusiv...| and sends zero w...| staff recycle or...|              [0, 1]|       \"\"\"Dolné hony|                    949 01 Nitra|                 Slovakia\"\"\"|\n",
      "|  1|\"\"\"vehicle manufa...|            itatiaia|           brazil\"\"\"|         \"\"\"Itatiaia| Jaguar Land Rove...| opened in 2016. ...| such as rainwate...|200 indigenous tr...| Paraíba do Sul. ...|              [0, 1]|            \"\"\"Av. Industrial...|                        1555|\n",
      "|  2|\"\"\"vehicle engine...|            budapest|          hungary\"\"\"|\"\"\"The Budapest o...|                 [2]|         \"\"\"Budapest|          Váci út 47|     1134 Hungary\"\"\"|    47.5292765072413|    19.0655695815808|            POINT(47.52927650...|                        null|\n",
      "|  3|\"\"\"contract manuf...|                graz|          austria\"\"\"|\"\"\"Jaguar Land Ro...| the Jaguar I-PAC...| the Jaguar E-PAC...|              [0, 1]|\"\"\"Liebenauer Hau...|           8041 Graz|          Austria\"\"\"|                47.0210956759931|            15.4778239407769|\n",
      "|  4| \"\"\"vehicle assembly|                pune|            india\"\"\"|\"\"\"The Jaguar Lan...|                 [1]|              \"\"\"104| Parmar Trader Ce...| Sadhu Vaswani Chawk|                Pune|  Maharashtra 411001|                        India\"\"\"|            18.5254916049463|\n",
      "|  5|\"\"\"vehicle engine...|            changshu|            china\"\"\"|\"\"\"The Jaguar Lan...| north of Shangha...| opened in 2014 a...|               [1,2]|   \"\"\"211 Shiji Blvd|            Lujiazui|              Pudong|                        Shanghai|                       China|\n",
      "|  6|\"\"\"research & inn...|            portland|              oregon|              usa\"\"\"|\"\"\"This research ...|                 [2]|\"\"\"10125 SW Washi...|            Portland|            OR 97223|    United States\"\"\"|                45.4450887401903|           -122.778308479233|\n",
      "|  7|\"\"\"software engin...|             shannon|          ireland\"\"\"|\"\"\"Jaguar Land Ro...|                 [2]|\"\"\"Shannon Free Z...|             Shannon|           Co. Clare|            V14 T863|          Ireland\"\"\"|                        52.72106|                    -8.89733|\n",
      "|  8|\"\"\"vehicle manufa...|         halewood\"\"\"|\"\"\"Halewood is no...| which it transfo...| as well as a Jag...|                 [1]|       \"\"\"Speke Blvd|               Speke|   Liverpool L24 9BJ|   United Kingdom\"\"\"|                        53.34888|                    -2.82904|\n",
      "|  9|\"\"\"software engin...|       manchester\"\"\"|\"\"\"Working alongs...| the Manchester-b...| technical specia...|              [0, 1]|              \"\"\"Neo|    Charlotte Street| Manchester M1 4E...|             53.4791|                        -2.23834|        POINT(53.4791, -2...|\n",
      "| 10|         \"\"\"inmotion|           london\"\"\"|\"\"\"Powered by Jag...| INMOTION invests...|                 [2]|\"\"\"221 Pentonvill...|    London N1 9UZ\"\"\"|    51.5308718131518|  -0.117276439651113|POINT(51.53087181...|                            null|                           0|\n",
      "| 11|\"\"\"vehicle manufa...|  castle bromwich\"\"\"|\"\"\"Covering 112 a...| Castle Bromwich ...|                 [1]|\"\"\"Jaguar Experience| The Jaguar Visit...|        Chester Road|         Castle Vale|          Birmingham|                      B35 7RA\"\"\"|                   52.515278|\n",
      "| 12|\"\"\"Engine manufac...|    Wolverhampton\"\"\"|\"\"\"The Engine Man...| ultra-efficient ...| powering the nex...|              [0, 1]|\"\"\"Jaguar Land Ro...|    Innovation Drive|       Wolverhampton|          WV9 5GA\"\"\"|                       52.635425|                    -2.14316|\n",
      "| 13|\"\"\"Battery assemb...|        Hams Hall\"\"\"|\"\"\"Our Battery As...| employing next-g...| the Battery Asse...|              [0, 1]|  \"\"\"10A Faraday Ave|           Coleshill|          Birmingham|          B46 1AL\"\"\"|                52.5229661300682|                  -1.6946794|\n",
      "| 14|       \"\"\"Whitley\"\"\"|\"\"\"Whitley is the...|                 [2]|\"\"\"Jaguar Land Ro...|          Abbey Road|             Whitley|            Coventry|          CV3 4LF\"\"\"|    52.3849923854167|   -1.49084931534183|            POINT(52.38499238...|                        null|\n",
      "| 15|\"\"\"vehicle manufa...|         solihull\"\"\"|\"\"\"The first Land...| affording it a s...|                 [1]|\"\"\"Jaguar Land Ro...|           Lode Lane|            Solihull|          B92 8NW\"\"\"|    52.4342884280562|                -1.7794652513759|        POINT(52.43428842...|\n",
      "| 16|\"\"\"National Autom...|          Warwick\"\"\"|\"\"\"The National A...|   Jaguar Land Rover| Tata and Governm...|                 [2]|\"\"\"Lord Bhattacha...|            Coventry|          CV4 7AL\"\"\"|    52.3836421202656|               -1.56212685582271|        POINT(52.38364212...|\n",
      "| 17|\"\"\"SV Technical C...|           Oxford\"\"\"|\"\"\"This innovativ...| limited edition ...| bespoke personal...| delivering high ...|              [0, 1]|\"\"\"Jaguar Land Ro...| Prologis Park Ryton|         Oxford Road|               Ryton-on-Dunsmore|                    Coventry|\n",
      "| 18|\"\"\"Anand Automoti...|\"\"\"ANAND is a glo...| SUJÁN. A dedicat...| places ANAND amo...|              [0, 1]|\"\"\"1 Sri Aurobind...|           Hauz Khas|  New Delhi – 110016|            India\"\"\"|             28.5367|                        77.01976|        POINT(28.5367, 77...|\n",
      "| 19|\"\"\"Anhui Zhongdin...|             Ltd.\"\"\"|\"\"\"Zhongding Grou...| the headquarter ...|             Ningguo| in the Southeast...| Zhongding Group ...| with mechanical ...|                 [0]|\"\"\"Zhongding Indu...|             Ningguo Economic...|                     Ningguo|\n",
      "+---+--------------------+--------------------+--------------------+--------------------+--------------------+--------------------+--------------------+--------------------+--------------------+--------------------+--------------------------------+----------------------------+\n",
      "only showing top 20 rows\n",
      "\n"
     ]
    }
   ],
   "source": [
    "for bucket in buckets:\n",
    "    df = spark.read.option('header', True).option('inferSchema', True).csv(f\"gs://data-lake-jlr-bronze-zone/{bucket}\")\n",
    "    df.write.mode(\"append\").format(\"delta\").save(f\"gs://data-lake-jlr-gold-zone/{bucket[:-4]}\")\n",
    "    spark.read.format('delta').load(f'gs://data-lake-jlr-gold-zone/{bucket[:-4]}').show()"
   ]
  },
  {
   "cell_type": "code",
   "execution_count": 50,
   "id": "ab4f093e",
   "metadata": {},
   "outputs": [],
   "source": [
    "df = spark.read.format('delta').load('gs://data-lake-jlr-gold-zone/dev/data/product_l1')"
   ]
  },
  {
   "cell_type": "code",
   "execution_count": 54,
   "id": "82665f3f",
   "metadata": {},
   "outputs": [
    {
     "name": "stdout",
     "output_type": "stream",
     "text": [
      "+------------+----------+-------+--------------------+--------------------+--------------------+-------------+-----+\n",
      "|         SKU|     mfgPN|  priPN|                name|            imageURI|                risk|unitOfMeasure|level|\n",
      "+------------+----------+-------+--------------------+--------------------+--------------------+-------------+-----+\n",
      "|3Y2WW7IZV7C8|26691-4744|23-4858|P530 AWD Automati...|                   -|                   0|        piece|    1|\n",
      "|3VVJZR5HUMVU|50471-6503|67-1565|P440e AWD AUTOMAT...|                   -|                   0|        piece|    1|\n",
      "|4VDDFH7Q9DBM|24551-9919|88-5132|    2.0L P250 i4 GAS|                   -|                   0|        piece|    1|\n",
      "|77NF8PVNJD6I|55159-5618|18-3869|   Body-colored roof|                   -|                   0|        piece|    1|\n",
      "|7J0QNASWCTGD|48346-8476|61-9506| Black contrast roof|                   -|                   0|        piece|    1|\n",
      "|YE9MOUMBCG9V|23136-1088|27-7989|Sliding panoramic...|                   -|                   0|        piece|    1|\n",
      "|6WC56W8HTRH1|32309-7107|39-8600|   Body-colored roof|                   -|                   0|        piece|    1|\n",
      "|54UXQP9S00B6|10772-7129|94-4514| Black contrast roof|                   -|                   0|        piece|    1|\n",
      "|70DHFY1HOHZT|26213-6165|76-9431|Sliding panoramic...|                   -|                   0|        piece|    1|\n",
      "|4MZHY9ASSGK0|30601-9045|65-6272|   Body-colored roof|                   -|                   0|        piece|    1|\n",
      "|3M1PC8LD6OL9|25831-5136|31-3653| Black contrast roof|                   -|                   0|        piece|    1|\n",
      "|5HJ97R4BF3H2|42303-8793|36-6407|Sliding panoramic...|                   -|                   0|        piece|    1|\n",
      "|6YE02LD9HQSF|38780-3248|60-4613|    \"22\"\" Style 7023| Diamond Turned w...|                   -|            0|piece|\n",
      "|6P102VHQRT0M|49213-5653|25-3047|        \"23\"\" forged|          Style 1077| Satin Dark Grey ...|            -|    0|\n",
      "|1Q5031HTDXYB|85784-3558|23-7877|\"SV Bespoke 22\"\" ...| Diamond Turned w...|                   -|            0|piece|\n",
      "|30IIAQ426CPH|35430-5269|32-8538|\"18\"\" Style 5075 ...|                   -|                   0|        piece|    1|\n",
      "|3FN9NDF8N9CS|53211-9440|60-8026|   \"22\"\" Style 7023\"|                   -|                   0|        piece|    1|\n",
      "|3W5QS45PSLN5|51645-6978|98-1770|    \"22\"\" Style 1073| Diamond Turned w...|                   -|            0|piece|\n",
      "|6XNGQ9R25M7I|79375-3496|69-6863|   \"21\"\" Style 5112\"|                   -|                   0|        piece|    1|\n",
      "|2LAKF4N7H3BI|76171-5012|45-2799|\"18\"\" Style 5088 ...|                   -|                   0|        piece|    1|\n",
      "+------------+----------+-------+--------------------+--------------------+--------------------+-------------+-----+\n",
      "only showing top 20 rows\n",
      "\n"
     ]
    }
   ],
   "source": [
    "df.select('SKU',\n",
    " 'mfgPN',\n",
    " 'priPN',\n",
    " 'name',\n",
    " 'imageURI',\n",
    " 'risk',\n",
    " 'unitOfMeasure',\n",
    " 'level').show()"
   ]
  }
 ],
 "metadata": {
  "kernelspec": {
   "display_name": "PySpark",
   "language": "python",
   "name": "pyspark"
  },
  "language_info": {
   "codemirror_mode": {
    "name": "ipython",
    "version": 3
   },
   "file_extension": ".py",
   "mimetype": "text/x-python",
   "name": "python",
   "nbconvert_exporter": "python",
   "pygments_lexer": "ipython3",
   "version": "3.8.15"
  }
 },
 "nbformat": 4,
 "nbformat_minor": 5
}
