{
 "cells": [
  {
   "cell_type": "code",
   "execution_count": 1,
   "id": "98dbb384",
   "metadata": {},
   "outputs": [],
   "source": [
    "from pyspark.sql import SparkSession\n",
    "from google.cloud import storage"
   ]
  },
  {
   "cell_type": "code",
   "execution_count": 2,
   "id": "758ea8d7",
   "metadata": {},
   "outputs": [
    {
     "name": "stdout",
     "output_type": "stream",
     "text": [
      ":: loading settings :: url = jar:file:/usr/lib/spark/jars/ivy-2.4.0.jar!/org/apache/ivy/core/settings/ivysettings.xml\n"
     ]
    },
    {
     "name": "stderr",
     "output_type": "stream",
     "text": [
      "Ivy Default Cache set to: /root/.ivy2/cache\n",
      "The jars for the packages stored in: /root/.ivy2/jars\n",
      "io.delta#delta-core_2.12 added as a dependency\n",
      ":: resolving dependencies :: org.apache.spark#spark-submit-parent-7de759eb-ab08-4d37-bc3e-dd33188e2f14;1.0\n",
      "\tconfs: [default]\n",
      "\tfound io.delta#delta-core_2.12;1.0.1 in central\n",
      "\tfound org.antlr#antlr4;4.7 in central\n",
      "\tfound org.antlr#antlr4-runtime;4.7 in central\n",
      "\tfound org.antlr#antlr-runtime;3.5.2 in central\n",
      "\tfound org.antlr#ST4;4.0.8 in central\n",
      "\tfound org.abego.treelayout#org.abego.treelayout.core;1.0.3 in central\n",
      "\tfound org.glassfish#javax.json;1.0.4 in central\n",
      "\tfound com.ibm.icu#icu4j;58.2 in central\n",
      ":: resolution report :: resolve 727ms :: artifacts dl 27ms\n",
      "\t:: modules in use:\n",
      "\tcom.ibm.icu#icu4j;58.2 from central in [default]\n",
      "\tio.delta#delta-core_2.12;1.0.1 from central in [default]\n",
      "\torg.abego.treelayout#org.abego.treelayout.core;1.0.3 from central in [default]\n",
      "\torg.antlr#ST4;4.0.8 from central in [default]\n",
      "\torg.antlr#antlr-runtime;3.5.2 from central in [default]\n",
      "\torg.antlr#antlr4;4.7 from central in [default]\n",
      "\torg.antlr#antlr4-runtime;4.7 from central in [default]\n",
      "\torg.glassfish#javax.json;1.0.4 from central in [default]\n",
      "\t---------------------------------------------------------------------\n",
      "\t|                  |            modules            ||   artifacts   |\n",
      "\t|       conf       | number| search|dwnlded|evicted|| number|dwnlded|\n",
      "\t---------------------------------------------------------------------\n",
      "\t|      default     |   8   |   0   |   0   |   0   ||   8   |   0   |\n",
      "\t---------------------------------------------------------------------\n",
      ":: retrieving :: org.apache.spark#spark-submit-parent-7de759eb-ab08-4d37-bc3e-dd33188e2f14\n",
      "\tconfs: [default]\n",
      "\t0 artifacts copied, 8 already retrieved (0kB/25ms)\n",
      "Setting default log level to \"WARN\".\n",
      "To adjust logging level use sc.setLogLevel(newLevel). For SparkR, use setLogLevel(newLevel).\n",
      "23/02/22 19:07:26 INFO org.apache.spark.SparkEnv: Registering MapOutputTracker\n",
      "23/02/22 19:07:26 INFO org.apache.spark.SparkEnv: Registering BlockManagerMaster\n",
      "23/02/22 19:07:26 INFO org.apache.spark.SparkEnv: Registering BlockManagerMasterHeartbeat\n",
      "23/02/22 19:07:27 INFO org.apache.spark.SparkEnv: Registering OutputCommitCoordinator\n",
      "23/02/22 19:07:31 WARN org.apache.spark.deploy.yarn.Client: Same path resource file:///root/.ivy2/jars/io.delta_delta-core_2.12-1.0.1.jar added multiple times to distributed cache.\n",
      "23/02/22 19:07:31 WARN org.apache.spark.deploy.yarn.Client: Same path resource file:///root/.ivy2/jars/org.antlr_antlr4-4.7.jar added multiple times to distributed cache.\n",
      "23/02/22 19:07:31 WARN org.apache.spark.deploy.yarn.Client: Same path resource file:///root/.ivy2/jars/org.antlr_antlr4-runtime-4.7.jar added multiple times to distributed cache.\n",
      "23/02/22 19:07:31 WARN org.apache.spark.deploy.yarn.Client: Same path resource file:///root/.ivy2/jars/org.antlr_antlr-runtime-3.5.2.jar added multiple times to distributed cache.\n",
      "23/02/22 19:07:31 WARN org.apache.spark.deploy.yarn.Client: Same path resource file:///root/.ivy2/jars/org.antlr_ST4-4.0.8.jar added multiple times to distributed cache.\n",
      "23/02/22 19:07:31 WARN org.apache.spark.deploy.yarn.Client: Same path resource file:///root/.ivy2/jars/org.abego.treelayout_org.abego.treelayout.core-1.0.3.jar added multiple times to distributed cache.\n",
      "23/02/22 19:07:31 WARN org.apache.spark.deploy.yarn.Client: Same path resource file:///root/.ivy2/jars/org.glassfish_javax.json-1.0.4.jar added multiple times to distributed cache.\n",
      "23/02/22 19:07:31 WARN org.apache.spark.deploy.yarn.Client: Same path resource file:///root/.ivy2/jars/com.ibm.icu_icu4j-58.2.jar added multiple times to distributed cache.\n"
     ]
    }
   ],
   "source": [
    "spark = SparkSession.builder.appName('Ops').config(\"spark.sql.extensions\", \"io.delta.sql.DeltaSparkSessionExtension\") \\\n",
    "    .config(\"spark.sql.catalog.spark_catalog\", \"org.apache.spark.sql.delta.catalog.DeltaCatalog\").getOrCreate()"
   ]
  },
  {
   "cell_type": "code",
   "execution_count": 3,
   "id": "75f07ba2",
   "metadata": {},
   "outputs": [],
   "source": [
    "from delta import *"
   ]
  },
  {
   "cell_type": "code",
   "execution_count": 4,
   "id": "26b79d1c",
   "metadata": {},
   "outputs": [],
   "source": [
    "bucket = \"data-lake-jlr-gold-zone\"\n",
    "prefix = \"dev/data\""
   ]
  },
  {
   "cell_type": "code",
   "execution_count": 5,
   "id": "5deec139",
   "metadata": {},
   "outputs": [],
   "source": [
    "storage_client = storage.Client()\n",
    "blobs = storage_client.list_blobs(bucket_or_name=bucket, prefix='dev/data/', delimiter='_delta_log/')"
   ]
  },
  {
   "cell_type": "code",
   "execution_count": 6,
   "id": "06b266e5",
   "metadata": {},
   "outputs": [
    {
     "name": "stdout",
     "output_type": "stream",
     "text": [
      "data\n",
      "documentedname\n",
      "endcustomerlocation\n",
      "feature\n",
      "featuregroup\n",
      "legalentity\n",
      "location\n",
      "model\n",
      "news\n",
      "order\n",
      "product_l0\n",
      "product_l1\n",
      "product_l2\n",
      "sanctionmeasure\n",
      "sanctionparty\n",
      "sanctions\n",
      "sob\n",
      "supplier\n"
     ]
    }
   ],
   "source": [
    "tables = []\n",
    "for blob in blobs:\n",
    "    if blob.name.endswith('/'):\n",
    "        table = blob.name.rsplit('/', 3)[1]\n",
    "        print(table)\n",
    "        tables.append(table)"
   ]
  },
  {
   "cell_type": "code",
   "execution_count": 7,
   "id": "04c8ba43",
   "metadata": {},
   "outputs": [
    {
     "data": {
      "text/plain": [
       "['documentedname',\n",
       " 'endcustomerlocation',\n",
       " 'feature',\n",
       " 'featuregroup',\n",
       " 'legalentity',\n",
       " 'location',\n",
       " 'model',\n",
       " 'news',\n",
       " 'order',\n",
       " 'product_l0',\n",
       " 'product_l1',\n",
       " 'product_l2',\n",
       " 'sanctionmeasure',\n",
       " 'sanctionparty',\n",
       " 'sanctions',\n",
       " 'sob',\n",
       " 'supplier']"
      ]
     },
     "execution_count": 7,
     "metadata": {},
     "output_type": "execute_result"
    }
   ],
   "source": [
    "tables = tables[1:]\n",
    "tables"
   ]
  },
  {
   "cell_type": "code",
   "execution_count": null,
   "id": "e2b29c5a",
   "metadata": {},
   "outputs": [
    {
     "name": "stderr",
     "output_type": "stream",
     "text": [
      "ivysettings.xml file not found in HIVE_HOME or HIVE_CONF_DIR,/etc/hive/conf.dist/ivysettings.xml will be used\n",
      "23/02/22 19:10:35 WARN hive.metastore: Failed to connect to the MetaStore Server...\n"
     ]
    }
   ],
   "source": [
    "for table in tables:\n",
    "    deltaTable = DeltaTable.forPath(spark, f\"gs://{bucket}/{prefix}/{table}\")\n",
    "    deltaTable.generate(\"symlink_format_manifest\")"
   ]
  },
  {
   "cell_type": "code",
   "execution_count": null,
   "id": "24a56f6b",
   "metadata": {},
   "outputs": [],
   "source": [
    "spark.sql(\"\"\"CREATE DATABASE IF NOT EXISTS supply_chain\"\"\")"
   ]
  },
  {
   "cell_type": "code",
   "execution_count": null,
   "id": "bc49477c",
   "metadata": {},
   "outputs": [],
   "source": [
    "spark.sql(\"\"\"SHOW DATABASES\"\"\").show()"
   ]
  },
  {
   "cell_type": "code",
   "execution_count": null,
   "id": "d044b2c4",
   "metadata": {},
   "outputs": [],
   "source": [
    "for table in tables:\n",
    "    df = spark.read.format('delta').load(f'gs://{bucket}/{prefix}/{table}')\n",
    "    \n",
    "    data_types = ''\n",
    "    for col in df.dtypes:\n",
    "        data_types = data_types + col[0] + ' ' + col[1] + ', '\n",
    "    \n",
    "    data_types = data_types[:-2]\n",
    "    print(f'Nombre_table: {table}, tipos_de_datos: {data_types}\\n')\n",
    "    \n",
    "    spark.sql(f\"\"\"CREATE TABLE supply_chain.{table} ({data_types}) \n",
    "              ROW FORMAT SERDE 'org.apache.hadoop.hive.ql.io.parquet.serde.ParquetHiveSerDe'\n",
    "              STORED AS INPUTFORMAT 'org.apache.hadoop.hive.ql.io.SymlinkTextInputFormat'\n",
    "              OUTPUTFORMAT 'org.apache.hadoop.hive.ql.io.HiveIgnoreKeyTextOutputFormat'\n",
    "              LOCATION 'gs://{bucket}/{prefix}/{table}/_symlink_format_manifest'\n",
    "              TBLPROPERTIES(delta.compatibility.symlinkFormatManifest.enabled=true)\"\"\")"
   ]
  },
  {
   "cell_type": "code",
   "execution_count": null,
   "id": "a123a166",
   "metadata": {},
   "outputs": [],
   "source": []
  }
 ],
 "metadata": {
  "kernelspec": {
   "display_name": "Python 3",
   "language": "python",
   "name": "python3"
  },
  "language_info": {
   "codemirror_mode": {
    "name": "ipython",
    "version": 3
   },
   "file_extension": ".py",
   "mimetype": "text/x-python",
   "name": "python",
   "nbconvert_exporter": "python",
   "pygments_lexer": "ipython3",
   "version": "3.8.15"
  },
  "vscode": {
   "interpreter": {
    "hash": "e2d51267fa35eddf0a2323dadb059439a2d0c850871489287d29f0e4b62ec0cf"
   }
  }
 },
 "nbformat": 4,
 "nbformat_minor": 5
}